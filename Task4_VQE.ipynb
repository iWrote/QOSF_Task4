{
 "cells": [
  {
   "cell_type": "code",
   "execution_count": 176,
   "metadata": {},
   "outputs": [
    {
     "name": "stderr",
     "output_type": "stream",
     "text": [
      "ibmqfactory.load_account:WARNING:2020-09-26 20:44:52,047: Credentials are already in use. The existing account in the session will be replaced.\n"
     ]
    }
   ],
   "source": [
    "%matplotlib inline\n",
    "# Importing standard Qiskit libraries and configuring account\n",
    "from qiskit import QuantumCircuit, execute, Aer, IBMQ\n",
    "from qiskit.compiler import transpile, assemble\n",
    "from qiskit.tools.jupyter import *\n",
    "from qiskit.visualization import *\n",
    "# Loading your IBM Q account(s)\n",
    "provider = IBMQ.load_account()\n",
    "\n",
    "import numpy as np\n",
    "import matplotlib.pyplot as plt"
   ]
  },
  {
   "cell_type": "code",
   "execution_count": 177,
   "metadata": {},
   "outputs": [],
   "source": [
    "SIM = qiskit.Aer.get_backend('qasm_simulator')\n",
    "SHOTS = 1000"
   ]
  },
  {
   "cell_type": "code",
   "execution_count": 178,
   "metadata": {},
   "outputs": [],
   "source": [
    "#https://en.wikipedia.org/wiki/Bell_state#Creating_Bell_states\n",
    "#Ansatz expected to converge to Bell State Maker. \n"
   ]
  },
  {
   "cell_type": "code",
   "execution_count": 179,
   "metadata": {},
   "outputs": [],
   "source": [
    "class Ansatz_XX_measure:\n",
    "    \n",
    "    def __init__(self, backend, shots):\n",
    "        \n",
    "        self.theta = qiskit.circuit.Parameter('theta')\n",
    "        \n",
    "        self._circuit = qiskit.QuantumCircuit(2)\n",
    "        self._circuit.rx(self.theta, 1)       \n",
    "        self._circuit.h(0)\n",
    "        self._circuit.cx(0,1)\n",
    "        \n",
    "        self._circuit.h([0, 1])\n",
    "        self._circuit.measure_all()  \n",
    "        \n",
    "        self.backend = backend\n",
    "        self.shots = shots\n",
    "        \n",
    "    def run(self, thetas):\n",
    "        job = qiskit.execute(self._circuit, self.backend, shots = self.shots, \n",
    "                            parameter_binds = [{self.theta: theta} for theta in thetas])\n",
    "        \n",
    "        result = job.result().get_counts(self._circuit)\n",
    "        \n",
    "        \n",
    "        states = np.array(list(result.keys())) \n",
    "        eigvaldict = {'00': 1, '01': -1, '10': -1, '11': 1}\n",
    "        eigvals = [ eigvaldict.get(eigval) for eigval in states ]  #eigenvalues of eigenstates\n",
    "        counts = np.array(list(result.values())) \n",
    "        probabilities = counts / self.shots  #probablilities corresponding to eigenvalues\n",
    "        \n",
    "        expectation = np.sum(eigvals * probabilities)  # <XX>\n",
    "        \n",
    "        return np.array([expectation])\n",
    "      "
   ]
  },
  {
   "cell_type": "code",
   "execution_count": 180,
   "metadata": {},
   "outputs": [],
   "source": [
    "\n",
    "class Ansatz_YY_measure:\n",
    "    \n",
    "    def __init__(self, backend, shots):\n",
    "        \n",
    "        self.theta = qiskit.circuit.Parameter('theta')\n",
    "        \n",
    "        self._circuit = qiskit.QuantumCircuit(2)\n",
    "        self._circuit.rx(self.theta, 1)       \n",
    "        self._circuit.h(0)\n",
    "        self._circuit.cx(0,1)\n",
    "        \n",
    "        self._circuit.sdg([0, 1]) #\n",
    "        self._circuit.h([0, 1])\n",
    "        self._circuit.measure_all()  \n",
    "        \n",
    "        self.backend = backend\n",
    "        self.shots = shots\n",
    "        \n",
    "    def run(self, thetas):\n",
    "        job = qiskit.execute(self._circuit, self.backend, shots = self.shots, \n",
    "                            parameter_binds = [{self.theta: theta} for theta in thetas])\n",
    "        result = job.result().get_counts(self._circuit)\n",
    "        \n",
    "        states = np.array(list(result.keys())) \n",
    "        eigvaldict = {'00': 1, '01': -1, '10': -1, '11': 1}\n",
    "        eigvals = [ eigvaldict.get(eigval) for eigval in states ]  #eigenvalues of eigenstates\n",
    "        counts = np.array(list(result.values())) \n",
    "        probabilities = counts / self.shots  #probablilities corresponding to eigenvalues\n",
    "        \n",
    "        expectation = np.sum(eigvals * probabilities)  # <YY>\n",
    "        \n",
    "        return np.array([expectation])\n",
    "      "
   ]
  },
  {
   "cell_type": "code",
   "execution_count": 181,
   "metadata": {},
   "outputs": [],
   "source": [
    "class Ansatz_ZZ_measure:\n",
    "    \n",
    "    def __init__(self, backend, shots):\n",
    "        \n",
    "        self.theta = qiskit.circuit.Parameter('theta')\n",
    "        \n",
    "        self._circuit = qiskit.QuantumCircuit(2)\n",
    "        self._circuit.rx(self.theta, 1)       \n",
    "        self._circuit.h(0)\n",
    "        self._circuit.cx(0,1)\n",
    "               \n",
    "        self._circuit.measure_all()  \n",
    "        \n",
    "        self.backend = backend\n",
    "        self.shots = shots\n",
    "        \n",
    "    def run(self, thetas):\n",
    "        job = qiskit.execute(self._circuit, self.backend, shots = self.shots, \n",
    "                            parameter_binds = [{self.theta: theta} for theta in thetas])\n",
    "        result = job.result().get_counts(self._circuit)\n",
    "        \n",
    "        states = np.array(list(result.keys())) \n",
    "        eigvaldict = {'00': 1, '01': -1, '10': -1, '11': 1}\n",
    "        eigvals = [ eigvaldict.get(eigval) for eigval in states ]  #eigenvalues of eigenstates\n",
    "        counts = np.array(list(result.values())) \n",
    "        probabilities = counts / self.shots  #probablilities corresponding to eigenvalues\n",
    "        \n",
    "        expectation = np.sum(eigvals * probabilities)   # <ZZ>\n",
    "        \n",
    "        return np.array([expectation])\n",
    "      "
   ]
  },
  {
   "cell_type": "code",
   "execution_count": 182,
   "metadata": {},
   "outputs": [
    {
     "data": {
      "image/png": "[encoded data removed]",
      "text/plain": [
       "<Figure size 532.259x204.68 with 1 Axes>"
      ]
     },
     "execution_count": 182,
     "metadata": {},
     "output_type": "execute_result"
    }
   ],
   "source": [
    "axm = Ansatz_XX_measure(SIM,SHOTS); axm._circuit.draw()\n"
   ]
  },
  {
   "cell_type": "code",
   "execution_count": 183,
   "metadata": {},
   "outputs": [
    {
     "data": {
      "image/png": "[encoded data removed]",
      "text/plain": [
       "<Figure size 592.459x204.68 with 1 Axes>"
      ]
     },
     "execution_count": 183,
     "metadata": {},
     "output_type": "execute_result"
    }
   ],
   "source": [
    "aym = Ansatz_YY_measure(SIM,SHOTS); aym._circuit.draw()"
   ]
  },
  {
   "cell_type": "code",
   "execution_count": 184,
   "metadata": {},
   "outputs": [
    {
     "data": {
      "image/png": "[encoded data removed]",
      "text/plain": [
       "<Figure size 472.059x204.68 with 1 Axes>"
      ]
     },
     "execution_count": 184,
     "metadata": {},
     "output_type": "execute_result"
    }
   ],
   "source": [
    "azm = Ansatz_ZZ_measure(SIM,SHOTS); azm._circuit.draw()"
   ]
  },
  {
   "cell_type": "code",
   "execution_count": 185,
   "metadata": {},
   "outputs": [],
   "source": [
    "def calculateExpectation(simulator, shots, theta):\n",
    "    E_XX = axm.run([theta])[0]\n",
    "    E_YY = aym.run([theta])[0]\n",
    "    E_ZZ = azm.run([theta])[0]\n",
    "    \n",
    "    E_H = 0.5 - 0.5*E_XX - 0.5*E_YY + 0.5*E_ZZ\n",
    "    \n",
    "    return E_H"
   ]
  },
  {
   "cell_type": "code",
   "execution_count": 190,
   "metadata": {},
   "outputs": [],
   "source": [
    "x = np.linspace(0, 4*np.pi, 100)\n",
    "y = []\n",
    "for theta in x:\n",
    "    y.append(calculateExpectation(SIM,SHOTS,theta))"
   ]
  },
  {
   "cell_type": "code",
   "execution_count": 191,
   "metadata": {
    "scrolled": true
   },
   "outputs": [
    {
     "data": {
      "text/plain": [
       "[<matplotlib.lines.Line2D at 0x7f1c131df490>]"
      ]
     },
     "execution_count": 191,
     "metadata": {},
     "output_type": "execute_result"
    },
    {
     "data": {
      "image/png": "[encoded data removed]",
      "text/plain": [
       "<Figure size 432x288 with 1 Axes>"
      ]
     },
     "metadata": {
      "needs_background": "light"
     },
     "output_type": "display_data"
    }
   ],
   "source": [
    "plt.plot(x,y)"
   ]
  },
  {
   "cell_type": "code",
   "execution_count": null,
   "metadata": {},
   "outputs": [],
   "source": [
    "Lowest eigenvalue: -1"
   ]
  }
 ],
 "metadata": {
  "kernelspec": {
   "display_name": "Python 3",
   "language": "python",
   "name": "python3"
  },
  "language_info": {
   "codemirror_mode": {
    "name": "ipython",
    "version": 3
   },
   "file_extension": ".py",
   "mimetype": "text/x-python",
   "name": "python",
   "nbconvert_exporter": "python",
   "pygments_lexer": "ipython3",
   "version": "3.7.4"
  }
 },
 "nbformat": 4,
 "nbformat_minor": 4
}
